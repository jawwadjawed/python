{
 "cells": [
  {
   "cell_type": "code",
   "execution_count": 15,
   "metadata": {},
   "outputs": [],
   "source": [
    "class Patient():\n",
    "    def __init__(self, last_name, first_name):\n",
    "        self.last_name = last_name\n",
    "        self.f_n=first_name"
   ]
  },
  {
   "cell_type": "code",
   "execution_count": 16,
   "metadata": {},
   "outputs": [],
   "source": [
    "talib = Patient(\"111 \", \"111\")"
   ]
  },
  {
   "cell_type": "code",
   "execution_count": 26,
   "metadata": {},
   "outputs": [],
   "source": [
    "class Patient():\n",
    "    def __init__(self, last_name, first_name, age):\n",
    "        self.last_name = last_name\n",
    "        self.f_n=first_name\n",
    "        self.a=age\n",
    "talib1= Patient(\"JAWED \", \"JAWWAD\", 23)"
   ]
  },
  {
   "cell_type": "code",
   "execution_count": 33,
   "metadata": {},
   "outputs": [
    {
     "name": "stdout",
     "output_type": "stream",
     "text": [
      "jawed \n"
     ]
    },
    {
     "data": {
      "text/plain": [
       "'F'"
      ]
     },
     "execution_count": 33,
     "metadata": {},
     "output_type": "execute_result"
    }
   ],
   "source": [
    "talib2= Patient(\"jawed \", \"Zakir\", 22)\n",
    "talib3= Patient(\"jawed \", \"Annus\",21)\n",
    "talib4= Patient(\"jawed \", \"F\", 16)\n",
    "\n",
    "\n",
    "print (talib.last_name)\n",
    "talib4.f_n"
   ]
  },
  {
   "cell_type": "code",
   "execution_count": 40,
   "metadata": {},
   "outputs": [],
   "source": [
    "class car():\n",
    "    \"\"\"A SIMPLE ATTEMPT TO REPRESENT A CAR\"\"\"\n",
    "    def __init__(self,make,model,year):\n",
    "        \"\"\"INITIALIZED ATTRIBUTES TO DESCRIBE A CAR \"\"\"\n",
    "        self.make=make\n",
    "        self.model=model\n",
    "        self.year=year\n",
    "        self.odometer_reading=0\n",
    "        \n",
    "    def get_description_name(self):\n",
    "            \"\"\"return a neatly fornatted descriptives name\"\"\"\n",
    "            long_name=str(self.year)+\" \"+self.make+\" \"+self.model\n",
    "            return long_name.title()\n",
    "        \n",
    "    def read_odometer(self):\n",
    "        print(\"this car has \"+str (self.odometer_reading)+\" mile on it. \")\n",
    "        \n",
    "    def update_odometer(self, mileage):\n",
    "        self.odometer_reading=mileage\n",
    "        "
   ]
  },
  {
   "cell_type": "code",
   "execution_count": 41,
   "metadata": {},
   "outputs": [
    {
     "name": "stdout",
     "output_type": "stream",
     "text": [
      "this car has 50 mile on it. \n"
     ]
    },
    {
     "data": {
      "text/plain": [
       "'2016 Audi A4'"
      ]
     },
     "execution_count": 41,
     "metadata": {},
     "output_type": "execute_result"
    }
   ],
   "source": [
    "my_new_car=car(\"audi\",\"a4\",2016)\n",
    "my_new_car.update_odometer(50)\n",
    "my_new_car.read_odometer()\n",
    "my_new_car.get_description_name()\n"
   ]
  },
  {
   "cell_type": "code",
   "execution_count": 64,
   "metadata": {},
   "outputs": [],
   "source": [
    "class builder():\n",
    "    def __init__(self, buildingname,area,how_many_floors):\n",
    "        self.buildingname=buildingname\n",
    "        self.area=area\n",
    "        self.howmanyfloors=how_many_floors\n",
    "        self.eachflatprice=0\n",
    "        \n",
    "    def get_project_name(self):\n",
    "            project= self.buildingname +\" \"+ self.area +\" \"+ str(self.howmanyfloors)\n",
    "            return project.title()\n",
    "        \n",
    "    def flatdetails(self):\n",
    "        print(\"building name is  \" + self.buildingname+ \" area is \"+self.area + \" total floor in buliding \"+str(self.howmanyfloors)+\"flat price is \"+str(self.eachflatprice)+\" and west open.\")\n",
    "        \n",
    "    def updateflatprice(self, price):\n",
    "        self.eachflatprice=price\n",
    "        \n"
   ]
  },
  {
   "cell_type": "code",
   "execution_count": 65,
   "metadata": {},
   "outputs": [
    {
     "name": "stdout",
     "output_type": "stream",
     "text": [
      "building name is  dhorajipride area is dhoraji total floor in buliding 13flat price is 25000000 and west open.\n"
     ]
    },
    {
     "data": {
      "text/plain": [
       "'Dhorajipride Dhoraji 13'"
      ]
     },
     "execution_count": 65,
     "metadata": {},
     "output_type": "execute_result"
    }
   ],
   "source": [
    "buildingname1=builder(\"dhorajipride\",\"dhoraji\",13)\n",
    "buildingname1.updateflatprice(25000000)\n",
    "buildingname1.flatdetails()\n",
    "buildingname1.get_project_name()"
   ]
  },
  {
   "cell_type": "code",
   "execution_count": null,
   "metadata": {},
   "outputs": [],
   "source": []
  },
  {
   "cell_type": "code",
   "execution_count": null,
   "metadata": {},
   "outputs": [],
   "source": []
  }
 ],
 "metadata": {
  "kernelspec": {
   "display_name": "Python 3",
   "language": "python",
   "name": "python3"
  },
  "language_info": {
   "codemirror_mode": {
    "name": "ipython",
    "version": 3
   },
   "file_extension": ".py",
   "mimetype": "text/x-python",
   "name": "python",
   "nbconvert_exporter": "python",
   "pygments_lexer": "ipython3",
   "version": "3.7.1"
  }
 },
 "nbformat": 4,
 "nbformat_minor": 2
}
