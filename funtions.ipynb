{
 "cells": [
  {
   "cell_type": "code",
   "execution_count": 2,
   "metadata": {},
   "outputs": [
    {
     "name": "stdout",
     "output_type": "stream",
     "text": [
      "the husband name Ali and the name of wife is Fatima\n"
     ]
    }
   ],
   "source": [
    "def couples(hname, wname):\n",
    "    print (\"the husband name\", hname.title(), \"and the name of wife is\", wname.title())\n",
    "    \n",
    "couples(wname=\"fatima\", hname=\"ali\")"
   ]
  },
  {
   "cell_type": "code",
   "execution_count": 3,
   "metadata": {},
   "outputs": [
    {
     "name": "stdout",
     "output_type": "stream",
     "text": [
      "the husband name Faraz and the name of wife is Sara\n"
     ]
    }
   ],
   "source": [
    "couples(\"faraz\", \"sara\")"
   ]
  },
  {
   "cell_type": "code",
   "execution_count": 5,
   "metadata": {},
   "outputs": [
    {
     "name": "stdout",
     "output_type": "stream",
     "text": [
      "i have a city .\n",
      "it's company is honda .\n"
     ]
    }
   ],
   "source": [
    "def mycar(name, company=\"honda\", model=2012):\n",
    "    print (\"i have a\", name, \".\")\n",
    "    print (\"it's company is\", company, \".\")\n",
    "    \n",
    "mycar(\"city\")"
   ]
  },
  {
   "cell_type": "code",
   "execution_count": 6,
   "metadata": {},
   "outputs": [
    {
     "name": "stdout",
     "output_type": "stream",
     "text": [
      "the size of my short is  33\n",
      "the text i want to write on it is  APNA TIME AYEGA\n"
     ]
    }
   ],
   "source": [
    "def shirt(size, text=\"apna time ayega\"):\n",
    "    print (\"the size of my short is \", size)\n",
    "    print (\"the text i want to write on it is \", text.upper())\n",
    "    \n",
    "shirt(33)"
   ]
  },
  {
   "cell_type": "code",
   "execution_count": 15,
   "metadata": {},
   "outputs": [
    {
     "name": "stdout",
     "output_type": "stream",
     "text": [
      "fname: ali\n",
      "lname ahmed\n",
      "age 23\n",
      "gender male\n"
     ]
    }
   ],
   "source": [
    "def human(first_name, last_name, age, gender):\n",
    "    person={\"fname:\":first_name, \"lname\": last_name, \"age\":age, \"gender\":gender}\n",
    "    for key, value in person.items():\n",
    "        print (key, value)\n",
    "    \n",
    "human(\"ali\", \"ahmed\", 23, \"male\")"
   ]
  },
  {
   "cell_type": "code",
   "execution_count": 34,
   "metadata": {},
   "outputs": [
    {
     "ename": "SyntaxError",
     "evalue": "invalid syntax (<ipython-input-34-923d1cd820f8>, line 4)",
     "output_type": "error",
     "traceback": [
      "\u001b[1;36m  File \u001b[1;32m\"<ipython-input-34-923d1cd820f8>\"\u001b[1;36m, line \u001b[1;32m4\u001b[0m\n\u001b[1;33m    print (\"your first name is\", fname,\"your Last name is \":lname )\u001b[0m\n\u001b[1;37m                                                           ^\u001b[0m\n\u001b[1;31mSyntaxError\u001b[0m\u001b[1;31m:\u001b[0m invalid syntax\n"
     ]
    }
   ],
   "source": [
    "def user(fname, mname, lname):\n",
    "    persons={\"your first name is\":fname, \"your middle name is\": mname, \"your Last name is \":lname}\n",
    "    if mname==\"\":\n",
    "        print (\"your first name is\", fname,\"your Last name is \":lname )\n",
    "    else:\n",
    "        print (\"your first name is\":fname, \"your middle name is\": mname, \"your Last name is \":lname)\n",
    "        \n",
    "user(fname=\"jawwad\", lname=\"jawed\")\n",
    "\n"
   ]
  },
  {
   "cell_type": "code",
   "execution_count": 40,
   "metadata": {},
   "outputs": [
    {
     "name": "stdout",
     "output_type": "stream",
     "text": [
      "shahzad ahsan\n"
     ]
    }
   ],
   "source": [
    "def myname(fname,lname,mname=\"\"):\n",
    "    if mname:\n",
    "        full_name=fname+\" \"+mname+\" \"+lname\n",
    "    else:\n",
    "        full_name=fname+\" \"+lname\n",
    "        \n",
    "    return full_name\n",
    "\n",
    "a=myname(\"shahzad\", \"ahsan\")\n",
    "print (a)"
   ]
  },
  {
   "cell_type": "code",
   "execution_count": 43,
   "metadata": {},
   "outputs": [
    {
     "name": "stdout",
     "output_type": "stream",
     "text": [
      "Muhammad ahsan shahzad\n"
     ]
    }
   ],
   "source": [
    "b=myname(\"Muhammad\", \"shahzad\", \"ahsan\")\n",
    "print(b)"
   ]
  },
  {
   "cell_type": "code",
   "execution_count": 55,
   "metadata": {},
   "outputs": [
    {
     "name": "stdout",
     "output_type": "stream",
     "text": [
      "your first name Jawwad jawed\n",
      "your age 22\n",
      "your location bahadurabad\n"
     ]
    }
   ],
   "source": [
    "def mynameinfo(full_name,age, location,mname=\"\"):\n",
    "    print (\"your first name\",full_name)\n",
    "    print (\"your age\",age)\n",
    "    print (\"your location\",location)\n",
    "    \n",
    "    return full_name,age,location\n",
    "a=mynameinfo(\"Jawwad jawed\", \"22\", \"bahadurabad\")"
   ]
  },
  {
   "cell_type": "code",
   "execution_count": 59,
   "metadata": {},
   "outputs": [
    {
     "name": "stdout",
     "output_type": "stream",
     "text": [
      "name: jawwadNaviwala, age:21\n"
     ]
    }
   ],
   "source": [
    "def personinformation(firstname,lastname,middlename=\"\",age=\"\",address=\"\"):\n",
    "    result=\"name: \"\n",
    "    \n",
    "    result+=firstname\n",
    "    \n",
    "    if middlename!=\"\":\n",
    "        result+=\" \"+middlename\n",
    "        \n",
    "        \n",
    "    result+=\"\"+lastname\n",
    "    \n",
    "    if age!=0:\n",
    "        result+=\", age:\" + age\n",
    "        \n",
    "    if address!=\"\":\n",
    "        result+=\", address: \"+address\n",
    "        \n",
    "    return result\n",
    "\n",
    "print(personinformation(\"jawwad\",\"Naviwala\", age= \"21\"))"
   ]
  },
  {
   "cell_type": "code",
   "execution_count": 63,
   "metadata": {},
   "outputs": [
    {
     "name": "stdout",
     "output_type": "stream",
     "text": [
      "***here is your pizza***\n",
      "cheese\n"
     ]
    }
   ],
   "source": [
    "def pizza(*topping):\n",
    "    print(\"***here is your pizza***\")\n",
    "    for toppings in topping:\n",
    "        print (toppings)\n",
    "        \n",
    "        \n",
    "pizza(\"cheese\")"
   ]
  },
  {
   "cell_type": "code",
   "execution_count": 61,
   "metadata": {},
   "outputs": [
    {
     "name": "stdout",
     "output_type": "stream",
     "text": [
      "***here is your pizza***\n",
      "cheese\n",
      "mashroom\n",
      "olive\n"
     ]
    }
   ],
   "source": [
    "pizza(\"cheese\", \"mashroom\", \"olive\")"
   ]
  },
  {
   "cell_type": "code",
   "execution_count": 66,
   "metadata": {},
   "outputs": [
    {
     "ename": "TypeError",
     "evalue": "pizza() takes 0 positional arguments but 1 was given",
     "output_type": "error",
     "traceback": [
      "\u001b[1;31m---------------------------------------------------------------------------\u001b[0m",
      "\u001b[1;31mTypeError\u001b[0m                                 Traceback (most recent call last)",
      "\u001b[1;32m<ipython-input-66-38814d8c0bc6>\u001b[0m in \u001b[0;36m<module>\u001b[1;34m\u001b[0m\n\u001b[0;32m      5\u001b[0m \u001b[1;33m\u001b[0m\u001b[0m\n\u001b[0;32m      6\u001b[0m \u001b[1;33m\u001b[0m\u001b[0m\n\u001b[1;32m----> 7\u001b[1;33m \u001b[0mpizza\u001b[0m\u001b[1;33m(\u001b[0m\u001b[1;34m\"cheese\"\u001b[0m\u001b[1;33m)\u001b[0m\u001b[1;33m\u001b[0m\u001b[1;33m\u001b[0m\u001b[0m\n\u001b[0m",
      "\u001b[1;31mTypeError\u001b[0m: pizza() takes 0 positional arguments but 1 was given"
     ]
    }
   ],
   "source": [
    "def pizza(**topping):\n",
    "    print(\"***here is your pizza***\")\n",
    "    for toppings in topping:\n",
    "        print (toppings)\n",
    "        \n",
    "        \n",
    "pizza(\"cheese\")"
   ]
  },
  {
   "cell_type": "code",
   "execution_count": null,
   "metadata": {},
   "outputs": [],
   "source": []
  }
 ],
 "metadata": {
  "kernelspec": {
   "display_name": "Python 3",
   "language": "python",
   "name": "python3"
  },
  "language_info": {
   "codemirror_mode": {
    "name": "ipython",
    "version": 3
   },
   "file_extension": ".py",
   "mimetype": "text/x-python",
   "name": "python",
   "nbconvert_exporter": "python",
   "pygments_lexer": "ipython3",
   "version": "3.7.1"
  }
 },
 "nbformat": 4,
 "nbformat_minor": 2
}
