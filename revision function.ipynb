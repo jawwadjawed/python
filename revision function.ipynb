{
 "cells": [
  {
   "cell_type": "code",
   "execution_count": null,
   "metadata": {},
   "outputs": [],
   "source": [
    "def name():\n",
    "    print(\"JAWWAD JAWED\")\n",
    "    "
   ]
  },
  {
   "cell_type": "code",
   "execution_count": null,
   "metadata": {},
   "outputs": [],
   "source": [
    "name()"
   ]
  },
  {
   "cell_type": "code",
   "execution_count": null,
   "metadata": {},
   "outputs": [],
   "source": []
  },
  {
   "cell_type": "code",
   "execution_count": 3,
   "metadata": {},
   "outputs": [
    {
     "name": "stdout",
     "output_type": "stream",
     "text": [
      "Select operator or press q for exit*\n",
      "Enter first number 25\n",
      "Enter second number 25\n",
      "625\n"
     ]
    }
   ],
   "source": [
    "operator = input(\"Select operator or press q for exit\")\n",
    "firstNumber = float(input(\"Enter first number \"))\n",
    "secondNumber = float(input(\"Enter second number \"))\n",
    "\n",
    "\n",
    "def Calculate(firstNumber, secondNumber, operator):\n",
    "    if (operator == \"+\"):    \n",
    "        result = firstNumber + secondNumber\n",
    "    elif operator == \"-\":\n",
    "        result = firstNumber - secondNumber\n",
    "    elif operator == \"/\":\n",
    "        result = firstNumber / secondNumber;\n",
    "    elif operator == \"*\":\n",
    "        result = firstNumber * secondNumber;\n",
    "    else:\n",
    "        result = \"Invalid operator\"\n",
    "    import math\n",
    "        \n",
    "    if math.modf(result)[0] != 0:\n",
    "        return result;\n",
    "    else:\n",
    "        return int(result);\n",
    "\n",
    "\n",
    "print(Calculate(firstNumber, secondNumber, operator));\n",
    "    "
   ]
  },
  {
   "cell_type": "code",
   "execution_count": 24,
   "metadata": {},
   "outputs": [],
   "source": [
    "def freinds(names):\n",
    "    for name in names:\n",
    "        print(f\"hello {name}!\")"
   ]
  },
  {
   "cell_type": "code",
   "execution_count": 25,
   "metadata": {},
   "outputs": [
    {
     "name": "stdout",
     "output_type": "stream",
     "text": [
      "hello a!\n",
      "hello s!\n",
      "hello f!\n",
      "hello d!\n",
      "hello f!\n",
      "hello g!\n",
      "hello h!\n",
      "hello j!\n",
      "hello k!\n",
      "hello l!\n",
      "hello q!\n",
      "hello w!\n",
      "hello e!\n",
      "hello r!\n",
      "hello t!\n",
      "hello y!\n",
      "hello u!\n",
      "hello i!\n",
      "hello o!\n",
      "hello p!\n",
      "hello z!\n",
      "hello x!\n",
      "hello c!\n",
      "hello v!\n",
      "hello b!\n",
      "hello n!\n",
      "hello m!\n"
     ]
    }
   ],
   "source": [
    "freinds([\"a\",\"s\",\"f\",\"d\",\"f\",\"g\",\"h\",\"j\",\"k\",\"l\",\"q\",\"w\",\"e\",\"r\",\"t\",\"y\",\"u\",\"i\",\"o\",\"p\",\"z\",\"x\",\"c\",\"v\",\"b\",\"n\",\"m\"])\n"
   ]
  },
  {
   "cell_type": "code",
   "execution_count": 28,
   "metadata": {},
   "outputs": [],
   "source": [
    "def my_full_name(f_name, m_name, l_name):\n",
    "    full_name=f_name+m_name+l_name\n",
    "    print (full_name)"
   ]
  },
  {
   "cell_type": "code",
   "execution_count": 29,
   "metadata": {},
   "outputs": [
    {
     "name": "stdout",
     "output_type": "stream",
     "text": [
      "muhammadhamzaKhan\n"
     ]
    }
   ],
   "source": [
    "my_full_name(\"muhammad\", \"hamza\", \"Khan\")"
   ]
  },
  {
   "cell_type": "code",
   "execution_count": 32,
   "metadata": {},
   "outputs": [],
   "source": [
    "def my_full_name(f_name, l_name, m_name=\" \"):\n",
    "    full_name=f_name+m_name+l_name\n",
    "    print (full_name)"
   ]
  },
  {
   "cell_type": "code",
   "execution_count": 33,
   "metadata": {},
   "outputs": [
    {
     "name": "stdout",
     "output_type": "stream",
     "text": [
      "muhammad hamza\n"
     ]
    }
   ],
   "source": [
    "my_full_name(\"muhammad\", \"hamza\")"
   ]
  },
  {
   "cell_type": "code",
   "execution_count": 44,
   "metadata": {},
   "outputs": [
    {
     "name": "stdout",
     "output_type": "stream",
     "text": [
      "Enter invoice amount 4000\n",
      "200.0\n"
     ]
    }
   ],
   "source": [
    "shoppingmall = float(input(\"Enter invoice amount \"))\n",
    "\n",
    "def invoice(shoppingmall):\n",
    "    if (shoppingmall >= 5000):    \n",
    "        result = shoppingmall * 10 / 100\n",
    "    else:\n",
    "        result = shoppingmall * 5 / 100\n",
    "        \n",
    "    return result\n",
    "  \n",
    "print(invoice(shoppingmall))\n"
   ]
  },
  {
   "cell_type": "code",
   "execution_count": null,
   "metadata": {},
   "outputs": [],
   "source": []
  },
  {
   "cell_type": "code",
   "execution_count": null,
   "metadata": {},
   "outputs": [],
   "source": []
  }
 ],
 "metadata": {
  "kernelspec": {
   "display_name": "Python 3",
   "language": "python",
   "name": "python3"
  },
  "language_info": {
   "codemirror_mode": {
    "name": "ipython",
    "version": 3
   },
   "file_extension": ".py",
   "mimetype": "text/x-python",
   "name": "python",
   "nbconvert_exporter": "python",
   "pygments_lexer": "ipython3",
   "version": "3.7.1"
  }
 },
 "nbformat": 4,
 "nbformat_minor": 2
}
